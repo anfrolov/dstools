{
 "cells": [
  {
   "cell_type": "markdown",
   "metadata": {},
   "source": [
    "### Imports"
   ]
  },
  {
   "cell_type": "code",
   "execution_count": 1,
   "metadata": {},
   "outputs": [],
   "source": [
    "import sys\n",
    "sys.path.append(\"..\")\n",
    "from src import db_tools as dbt"
   ]
  },
  {
   "cell_type": "markdown",
   "metadata": {},
   "source": [
    "### Create database"
   ]
  },
  {
   "cell_type": "code",
   "execution_count": 4,
   "metadata": {},
   "outputs": [],
   "source": [
    "db = dbt.SQLiteDB(\"../data/data.db\")"
   ]
  },
  {
   "cell_type": "markdown",
   "metadata": {},
   "source": [
    "### Load data"
   ]
  },
  {
   "cell_type": "code",
   "execution_count": 5,
   "metadata": {},
   "outputs": [
    {
     "name": "stderr",
     "output_type": "stream",
     "text": [
      "200039it [00:03, 55565.43it/s]\n"
     ]
    }
   ],
   "source": [
    "db.load(filename=\"../data/target.csv\", table=\"target\", primary_key=\"client_id\")"
   ]
  },
  {
   "cell_type": "code",
   "execution_count": 6,
   "metadata": {},
   "outputs": [
    {
     "name": "stderr",
     "output_type": "stream",
     "text": [
      "200039it [00:04, 44855.80it/s]\n"
     ]
    }
   ],
   "source": [
    "db.load(filename=\"../data/features_set1.csv\", table=\"features_set1\", primary_key=\"client_id\")"
   ]
  },
  {
   "cell_type": "code",
   "execution_count": 7,
   "metadata": {},
   "outputs": [
    {
     "name": "stderr",
     "output_type": "stream",
     "text": [
      "200039it [00:03, 56677.02it/s]\n"
     ]
    }
   ],
   "source": [
    "db.load(filename=\"../data/features_set2.csv\", table=\"features_set2\", primary_key=\"client_id\")"
   ]
  },
  {
   "cell_type": "code",
   "execution_count": 8,
   "metadata": {},
   "outputs": [
    {
     "name": "stderr",
     "output_type": "stream",
     "text": [
      "200039it [00:04, 45505.94it/s]\n"
     ]
    }
   ],
   "source": [
    "db.load(filename=\"../data/features_set3.csv\", table=\"features_set3\", primary_key=\"client_id\")"
   ]
  },
  {
   "cell_type": "code",
   "execution_count": 9,
   "metadata": {},
   "outputs": [
    {
     "name": "stderr",
     "output_type": "stream",
     "text": [
      "200039it [00:04, 46574.70it/s]\n"
     ]
    }
   ],
   "source": [
    "db.load(filename=\"../data/features_set4.csv\", table=\"features_set4\", primary_key=\"client_id\")"
   ]
  },
  {
   "cell_type": "code",
   "execution_count": 10,
   "metadata": {},
   "outputs": [
    {
     "name": "stderr",
     "output_type": "stream",
     "text": [
      "200039it [00:05, 39031.71it/s]\n"
     ]
    }
   ],
   "source": [
    "db.load(filename=\"../data/features_set5.csv\", table=\"features_set5\", primary_key=\"client_id\")"
   ]
  }
 ],
 "metadata": {
  "kernelspec": {
   "display_name": "Python 3",
   "language": "python",
   "name": "python3"
  },
  "language_info": {
   "codemirror_mode": {
    "name": "ipython",
    "version": 3
   },
   "file_extension": ".py",
   "mimetype": "text/x-python",
   "name": "python",
   "nbconvert_exporter": "python",
   "pygments_lexer": "ipython3",
   "version": "3.7.6"
  }
 },
 "nbformat": 4,
 "nbformat_minor": 4
}
